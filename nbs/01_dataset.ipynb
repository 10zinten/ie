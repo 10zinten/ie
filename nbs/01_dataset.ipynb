{
 "cells": [
  {
   "cell_type": "code",
   "execution_count": null,
   "metadata": {},
   "outputs": [],
   "source": [
    "# default_exp boie.dataset"
   ]
  },
  {
   "cell_type": "code",
   "execution_count": null,
   "metadata": {},
   "outputs": [],
   "source": [
    "#export\n",
    "import os\n",
    "from pathlib import Path"
   ]
  },
  {
   "cell_type": "code",
   "execution_count": null,
   "metadata": {},
   "outputs": [],
   "source": [
    "#export\n",
    "DATA_PATH = Path('data')\n",
    "\n",
    "DATA_PATH.mkdir(parents=True, exist_ok=True)\n",
    "\n",
    "data_name = {\n",
    "    'citation': 'tibetan-citations-for-ner'\n",
    "}"
   ]
  },
  {
   "cell_type": "code",
   "execution_count": null,
   "metadata": {},
   "outputs": [],
   "source": [
    "#export\n",
    "def download_dataset(d_type='citation', source='kaggle'):\n",
    "    if d_type not in data_name:\n",
    "        print('dataset not found !')\n",
    "        return\n",
    "\n",
    "    if source == 'kaggle':\n",
    "        cmd = f'kaggle datasets download -d tenzinx/{data_name[d_type]} -p {DATA_PATH} --unzip'\n",
    "        os.system(cmd)\n",
    "        print(f'{d_type} data download completed')\n",
    "        return DATA_PATH/list(DATA_PATH.iterdir())[0].name"
   ]
  },
  {
   "cell_type": "code",
   "execution_count": null,
   "metadata": {},
   "outputs": [
    {
     "name": "stdout",
     "output_type": "stream",
     "text": [
      "citation data download completed\n"
     ]
    }
   ],
   "source": [
    "#export\n",
    "data_fn = download_dataset()"
   ]
  }
 ],
 "metadata": {
  "kernelspec": {
   "display_name": "Python 3",
   "language": "python",
   "name": "python3"
  }
 },
 "nbformat": 4,
 "nbformat_minor": 4
}
